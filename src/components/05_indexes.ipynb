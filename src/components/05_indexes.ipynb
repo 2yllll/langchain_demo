{
 "cells": [
  {
   "attachments": {},
   "cell_type": "markdown",
   "metadata": {},
   "source": [
    "# 05. 索引 [LangChain Indexes](https://python.langchain.com/en/latest/modules/indexes/getting_started.html)\n",
    "\n",
    "索引，是指 上下文。\n",
    "\n",
    "要点：`Vector Database` （`向量数据库`）\n",
    "\n",
    "`Chain` 中，在 `检索`步骤中 会用`索引` 得到 和问题 最相关的文本；\n",
    "\n",
    "+ `Index` 可用于`retrieval`外的其他用途\n",
    "+ `retrieval` 可使用`Index`外的逻辑来查找文档\n",
    "\n",
    "因此，还有有一个`Retriever`接口。\n",
    "\n",
    "这里讨论 谈论索引 和 检索 时，指的是 非结构化数据 的搜索；（如 字符串）\n",
    "\n",
    "对结构化数据，如 SQL, API交互，请参考其他用例"
   ]
  },
  {
   "attachments": {},
   "cell_type": "markdown",
   "metadata": {},
   "source": [
    "相关的组件，有下面几个概念：\n",
    "\n",
    "+ `Document Loader` 文档加载\n",
    "+ `Text Splitter` 文本分割\n",
    "+ `Vector Store` 向量存储\n",
    "+ `Retriever` 检索器"
   ]
  },
  {
   "attachments": {},
   "cell_type": "markdown",
   "metadata": {},
   "source": [
    "例子：可以参考 [解释 langchain源码](./code_understanding/01_langchain.ipynb)"
   ]
  }
 ],
 "metadata": {
  "language_info": {
   "name": "python"
  },
  "orig_nbformat": 4
 },
 "nbformat": 4,
 "nbformat_minor": 2
}

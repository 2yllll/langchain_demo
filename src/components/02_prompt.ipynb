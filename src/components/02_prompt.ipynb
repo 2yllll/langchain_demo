{
 "cells": [
  {
   "attachments": {},
   "cell_type": "markdown",
   "metadata": {},
   "source": [
    "# 02. 提示 [LangChain Prompt](https://python.langchain.com/en/latest/modules/prompts.html)\n",
    "\n",
    "简单理解，`提示` 就是 输入，下面提供几个 概念 简化 提示的构建：\n",
    "\n",
    "+ `LLM Prompt Template` 对 `LLM Model` 的 提示\n",
    "+ `Chat Prompt Template` 对 `Chat Model` 的 提示\n",
    "+ `Example Selector` 在提示中 包含 示例，还记得 `one-shot`, `few-shot` 吗？\n",
    "+ `Output Parser`  提示 模型如何输出 结构化信息，并将模型输出解析为指定格式"
   ]
  }
 ],
 "metadata": {
  "language_info": {
   "name": "python"
  },
  "orig_nbformat": 4
 },
 "nbformat": 4,
 "nbformat_minor": 2
}

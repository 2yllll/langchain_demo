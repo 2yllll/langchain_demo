{
 "cells": [
  {
   "attachments": {},
   "cell_type": "markdown",
   "metadata": {},
   "source": [
    "# 06. 代理 [LangChain Agent](https://python.langchain.com/en/latest/modules/agents/getting_started.html)"
   ]
  },
  {
   "attachments": {},
   "cell_type": "markdown",
   "metadata": {},
   "source": [
    "`Agent` 智能体 \n",
    "\n",
    "用`LLM`来做决策的智能体，也就是让`LLM`自主决定 何时/如何 做`Action`的智能体；\n",
    "\n",
    "`Action`可以是使用工具并观察其输出，也可以是返回给用户。"
   ]
  },
  {
   "attachments": {},
   "cell_type": "markdown",
   "metadata": {},
   "source": [
    "智能体 相关的 概念：\n",
    "\n",
    "+ `LLM`：语言模型，负责 做决策，驱动 Agent\n",
    "+ `Tool`：执行特定的功能。例子：执行搜索，查询数据库，Python 命令行\n",
    "    - 目前，Tool 接口原型是 def tool(input: str) -> str;\n",
    "+ `Agent`：要使用的代理类"
   ]
  },
  {
   "attachments": {},
   "cell_type": "markdown",
   "metadata": {},
   "source": [
    "下面是一个简单用例：让GPT用 Google搜索 的 [SerpApi](https://serpapi.com/) 查询一些数据，并给出回应；"
   ]
  },
  {
   "attachments": {},
   "cell_type": "markdown",
   "metadata": {},
   "source": [
    "首先，请安装 python 库：\n",
    "\n",
    "``` bash\n",
    "pip3 install google-search-results\n",
    "```"
   ]
  },
  {
   "attachments": {},
   "cell_type": "markdown",
   "metadata": {},
   "source": [
    "然后，请到 [这里](https://serpapi.com/) 注册并申请 API-KEY，然后将 API-KEY 写入 到 环境变量`SERPAPI_API_KEY"
   ]
  },
  {
   "cell_type": "code",
   "execution_count": 3,
   "metadata": {},
   "outputs": [
    {
     "name": "stdout",
     "output_type": "stream",
     "text": [
      "\n",
      "\n",
      "\u001b[1m> Entering new AgentExecutor chain...\u001b[0m\n",
      "\u001b[32;1m\u001b[1;3m I need to find out who Yao Ming's wife is and her age\n",
      "Action: Search\n",
      "Action Input: 姚明的妻子\u001b[0m\n",
      "Observation: \u001b[36;1m\u001b[1;3mYe Li\u001b[0m\n",
      "Thought:\u001b[32;1m\u001b[1;3m Now I need to find out her age\n",
      "Action: Search\n",
      "Action Input: Ye Li 年龄\u001b[0m\n",
      "Observation: \u001b[36;1m\u001b[1;3m41 years\u001b[0m\n",
      "Thought:"
     ]
    },
    {
     "name": "stderr",
     "output_type": "stream",
     "text": [
      "Retrying langchain.llms.openai.completion_with_retry.<locals>._completion_with_retry in 4.0 seconds as it raised RateLimitError: The server had an error while processing your request. Sorry about that!.\n",
      "Retrying langchain.llms.openai.completion_with_retry.<locals>._completion_with_retry in 4.0 seconds as it raised RateLimitError: The server had an error while processing your request. Sorry about that!.\n"
     ]
    },
    {
     "name": "stdout",
     "output_type": "stream",
     "text": [
      "\u001b[32;1m\u001b[1;3m Now I need to calculate her age to the 0.76 power\n",
      "Action: Calculator\n",
      "Action Input: 41^0.76\u001b[0m\n",
      "Observation: \u001b[33;1m\u001b[1;3mAnswer: 16.81573021568851\u001b[0m\n",
      "Thought:"
     ]
    },
    {
     "name": "stderr",
     "output_type": "stream",
     "text": [
      "Retrying langchain.llms.openai.completion_with_retry.<locals>._completion_with_retry in 4.0 seconds as it raised RateLimitError: The server had an error while processing your request. Sorry about that!.\n"
     ]
    },
    {
     "name": "stdout",
     "output_type": "stream",
     "text": [
      "\u001b[32;1m\u001b[1;3m I now know the final answer\n",
      "Final Answer: Ye Li是姚明的妻子，她现在的年龄是41岁，她年龄的0.76次方是16.81573021568851。\u001b[0m\n",
      "\n",
      "\u001b[1m> Finished chain.\u001b[0m\n"
     ]
    },
    {
     "data": {
      "text/plain": [
       "'Ye Li是姚明的妻子，她现在的年龄是41岁，她年龄的0.76次方是16.81573021568851。'"
      ]
     },
     "execution_count": 3,
     "metadata": {},
     "output_type": "execute_result"
    }
   ],
   "source": [
    "\n",
    "from langchain.agents import load_tools\n",
    "from langchain.agents import initialize_agent\n",
    "from langchain.agents import AgentType\n",
    "from langchain.llms import OpenAI\n",
    "\n",
    "# 加载将要用来控制 Agents 的语言模型\n",
    "llm = OpenAI(temperature=0)\n",
    "\n",
    "# 加载一些要使用的工具\n",
    "tools = load_tools([\"serpapi\", \"llm-math\"], llm=llm)\n",
    "\n",
    "# 初始化 Agents\n",
    "agent = initialize_agent(\n",
    "    tools, \n",
    "    llm, \n",
    "    agent=AgentType.ZERO_SHOT_REACT_DESCRIPTION, \n",
    "    verbose=True\n",
    ")\n",
    "\n",
    "# 测试一下！\n",
    "agent.run(\"请用中文回答：姚明的妻子是谁？她现在的年龄是多少？她年龄的0.76次方是多少？\")"
   ]
  }
 ],
 "metadata": {
  "kernelspec": {
   "display_name": "base",
   "language": "python",
   "name": "python3"
  },
  "language_info": {
   "codemirror_mode": {
    "name": "ipython",
    "version": 3
   },
   "file_extension": ".py",
   "mimetype": "text/x-python",
   "name": "python",
   "nbconvert_exporter": "python",
   "pygments_lexer": "ipython3",
   "version": "3.10.10"
  },
  "orig_nbformat": 4
 },
 "nbformat": 4,
 "nbformat_minor": 2
}

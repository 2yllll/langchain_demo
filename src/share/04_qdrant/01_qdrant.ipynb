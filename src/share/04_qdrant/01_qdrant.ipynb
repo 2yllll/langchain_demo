{
 "cells": [
  {
   "cell_type": "markdown",
   "metadata": {},
   "source": [
    "# [Langchain with Qdrant](https://python.langchain.com/en/latest/modules/indexes/vectorstores/examples/qdrant.html)"
   ]
  },
  {
   "cell_type": "markdown",
   "metadata": {},
   "source": [
    "## 0. [Qdrant](https://qdrant.tech/documentation/quick-start/) 简介\n",
    "\n",
    "`Qdrant` 是 `Rust`语言 实现的 `向量数据库`，支持 云端 和 分布式存储；\n",
    "\n",
    "有很多存储方式：\n",
    "\n",
    "+ 内存数据库：纯内存，程序关掉就丢失；\n",
    "+ 磁盘数据库：用 `Sqlite` 实现，部署方便，适用于小规模数据集；\n",
    "+ 标准 C/S 存储服务\n",
    "    - 私有部署 服务器：用 `Docker` 搭建\n",
    "    - 官方 [Qdrant 云](https://cloud.qdrant.io/)，需要登录，创建 `API_KEY`"
   ]
  },
  {
   "cell_type": "markdown",
   "metadata": {},
   "source": [
    "## 1. 环境\n",
    "\n",
    "+ 运行环境：Windows 11\n",
    "+ OpenAI的API Key，配置在 您电脑的 环境变量 `OPENAI_API_KEY`"
   ]
  },
  {
   "cell_type": "markdown",
   "metadata": {},
   "source": [
    "`Docker` 搭建 `Qdrant` 服务器 步骤：\n",
    "\n",
    "+ 下载镜像 docker pull qdrant/qdrant\n",
    "+ 运行容器：docker run -p 6333:6333 -p 6334:6334 -e QDRANT__SERVICE__GRPC_PORT=\"6334\" qdrant/qdrant\n",
    "+ 浏览器 测试 http://127.0.0.1:6333\n",
    "\n",
    "说明：\n",
    "\n",
    "+ 运行`Docker`容器 docker run -p 外部端口:内部端口 -e 环境变量=值 镜像\n",
    "+ 6333 是 `RESTFul` HTTP 接口\n",
    "+ 6334 是 `gprc` 接口 （二进制）"
   ]
  },
  {
   "cell_type": "code",
   "execution_count": null,
   "metadata": {},
   "outputs": [
    {
     "name": "stdout",
     "output_type": "stream",
     "text": [
      "Requirement already satisfied: tiktoken in e:\\users\\41200\\appdata\\local\\programs\\python\\python311\\lib\\site-packages (0.4.0)\n",
      "Requirement already satisfied: openai in e:\\users\\41200\\appdata\\local\\programs\\python\\python311\\lib\\site-packages (0.27.8)\n",
      "Requirement already satisfied: langchain in e:\\users\\41200\\appdata\\local\\programs\\python\\python311\\lib\\site-packages (0.0.208)\n",
      "Requirement already satisfied: qdrant-client in e:\\users\\41200\\appdata\\local\\programs\\python\\python311\\lib\\site-packages (1.2.0)\n",
      "Requirement already satisfied: regex>=2022.1.18 in e:\\users\\41200\\appdata\\local\\programs\\python\\python311\\lib\\site-packages (from tiktoken) (2023.6.3)\n",
      "Requirement already satisfied: requests>=2.26.0 in e:\\users\\41200\\appdata\\local\\programs\\python\\python311\\lib\\site-packages (from tiktoken) (2.31.0)\n",
      "Requirement already satisfied: tqdm in e:\\users\\41200\\appdata\\local\\programs\\python\\python311\\lib\\site-packages (from openai) (4.65.0)\n",
      "Requirement already satisfied: aiohttp in e:\\users\\41200\\appdata\\local\\programs\\python\\python311\\lib\\site-packages (from openai) (3.8.4)\n",
      "Requirement already satisfied: PyYAML>=5.4.1 in e:\\users\\41200\\appdata\\local\\programs\\python\\python311\\lib\\site-packages (from langchain) (6.0)\n",
      "Requirement already satisfied: SQLAlchemy<3,>=1.4 in e:\\users\\41200\\appdata\\local\\programs\\python\\python311\\lib\\site-packages (from langchain) (2.0.16)\n",
      "Requirement already satisfied: dataclasses-json<0.6.0,>=0.5.7 in e:\\users\\41200\\appdata\\local\\programs\\python\\python311\\lib\\site-packages (from langchain) (0.5.8)\n",
      "Requirement already satisfied: langchainplus-sdk>=0.0.13 in e:\\users\\41200\\appdata\\local\\programs\\python\\python311\\lib\\site-packages (from langchain) (0.0.16)\n",
      "Requirement already satisfied: numexpr<3.0.0,>=2.8.4 in e:\\users\\41200\\appdata\\local\\programs\\python\\python311\\lib\\site-packages (from langchain) (2.8.4)\n",
      "Requirement already satisfied: numpy<2,>=1 in e:\\users\\41200\\appdata\\local\\programs\\python\\python311\\lib\\site-packages (from langchain) (1.24.3)\n",
      "Requirement already satisfied: openapi-schema-pydantic<2.0,>=1.2 in e:\\users\\41200\\appdata\\local\\programs\\python\\python311\\lib\\site-packages (from langchain) (1.2.4)\n",
      "Requirement already satisfied: pydantic<2,>=1 in e:\\users\\41200\\appdata\\local\\programs\\python\\python311\\lib\\site-packages (from langchain) (1.10.9)\n",
      "Requirement already satisfied: tenacity<9.0.0,>=8.1.0 in e:\\users\\41200\\appdata\\local\\programs\\python\\python311\\lib\\site-packages (from langchain) (8.2.2)\n",
      "Requirement already satisfied: grpcio>=1.41.0 in e:\\users\\41200\\appdata\\local\\programs\\python\\python311\\lib\\site-packages (from qdrant-client) (1.54.2)\n",
      "Requirement already satisfied: grpcio-tools>=1.41.0 in e:\\users\\41200\\appdata\\local\\programs\\python\\python311\\lib\\site-packages (from qdrant-client) (1.54.2)\n",
      "Requirement already satisfied: httpx[http2]>=0.14.0 in e:\\users\\41200\\appdata\\local\\programs\\python\\python311\\lib\\site-packages (from qdrant-client) (0.24.1)\n",
      "Requirement already satisfied: portalocker<3.0.0,>=2.7.0 in e:\\users\\41200\\appdata\\local\\programs\\python\\python311\\lib\\site-packages (from qdrant-client) (2.7.0)\n",
      "Requirement already satisfied: typing-extensions<4.6.0,>=4.0.0 in e:\\users\\41200\\appdata\\local\\programs\\python\\python311\\lib\\site-packages (from qdrant-client) (4.5.0)\n",
      "Requirement already satisfied: urllib3<2.0.0,>=1.26.14 in e:\\users\\41200\\appdata\\local\\programs\\python\\python311\\lib\\site-packages (from qdrant-client) (1.26.16)\n",
      "Requirement already satisfied: attrs>=17.3.0 in e:\\users\\41200\\appdata\\local\\programs\\python\\python311\\lib\\site-packages (from aiohttp->openai) (23.1.0)\n",
      "Requirement already satisfied: charset-normalizer<4.0,>=2.0 in e:\\users\\41200\\appdata\\local\\programs\\python\\python311\\lib\\site-packages (from aiohttp->openai) (3.1.0)\n",
      "Requirement already satisfied: multidict<7.0,>=4.5 in e:\\users\\41200\\appdata\\local\\programs\\python\\python311\\lib\\site-packages (from aiohttp->openai) (6.0.4)\n",
      "Requirement already satisfied: async-timeout<5.0,>=4.0.0a3 in e:\\users\\41200\\appdata\\local\\programs\\python\\python311\\lib\\site-packages (from aiohttp->openai) (4.0.2)\n",
      "Requirement already satisfied: yarl<2.0,>=1.0 in e:\\users\\41200\\appdata\\local\\programs\\python\\python311\\lib\\site-packages (from aiohttp->openai) (1.9.2)\n",
      "Requirement already satisfied: frozenlist>=1.1.1 in e:\\users\\41200\\appdata\\local\\programs\\python\\python311\\lib\\site-packages (from aiohttp->openai) (1.3.3)\n",
      "Requirement already satisfied: aiosignal>=1.1.2 in e:\\users\\41200\\appdata\\local\\programs\\python\\python311\\lib\\site-packages (from aiohttp->openai) (1.3.1)\n",
      "Requirement already satisfied: marshmallow<4.0.0,>=3.3.0 in e:\\users\\41200\\appdata\\local\\programs\\python\\python311\\lib\\site-packages (from dataclasses-json<0.6.0,>=0.5.7->langchain) (3.19.0)\n",
      "Requirement already satisfied: marshmallow-enum<2.0.0,>=1.5.1 in e:\\users\\41200\\appdata\\local\\programs\\python\\python311\\lib\\site-packages (from dataclasses-json<0.6.0,>=0.5.7->langchain) (1.5.1)\n",
      "Requirement already satisfied: typing-inspect>=0.4.0 in e:\\users\\41200\\appdata\\local\\programs\\python\\python311\\lib\\site-packages (from dataclasses-json<0.6.0,>=0.5.7->langchain) (0.9.0)\n",
      "Requirement already satisfied: protobuf<5.0dev,>=4.21.6 in e:\\users\\41200\\appdata\\local\\programs\\python\\python311\\lib\\site-packages (from grpcio-tools>=1.41.0->qdrant-client) (4.23.3)\n",
      "Requirement already satisfied: setuptools in e:\\users\\41200\\appdata\\local\\programs\\python\\python311\\lib\\site-packages (from grpcio-tools>=1.41.0->qdrant-client) (65.5.0)\n",
      "Requirement already satisfied: certifi in e:\\users\\41200\\appdata\\local\\programs\\python\\python311\\lib\\site-packages (from httpx[http2]>=0.14.0->qdrant-client) (2023.5.7)\n",
      "Requirement already satisfied: httpcore<0.18.0,>=0.15.0 in e:\\users\\41200\\appdata\\local\\programs\\python\\python311\\lib\\site-packages (from httpx[http2]>=0.14.0->qdrant-client) (0.17.2)\n",
      "Requirement already satisfied: idna in e:\\users\\41200\\appdata\\local\\programs\\python\\python311\\lib\\site-packages (from httpx[http2]>=0.14.0->qdrant-client) (3.4)\n",
      "Requirement already satisfied: sniffio in e:\\users\\41200\\appdata\\local\\programs\\python\\python311\\lib\\site-packages (from httpx[http2]>=0.14.0->qdrant-client) (1.3.0)\n",
      "Requirement already satisfied: h2<5,>=3 in e:\\users\\41200\\appdata\\local\\programs\\python\\python311\\lib\\site-packages (from httpx[http2]>=0.14.0->qdrant-client) (4.1.0)\n",
      "Requirement already satisfied: pywin32>=226 in e:\\users\\41200\\appdata\\roaming\\python\\python311\\site-packages (from portalocker<3.0.0,>=2.7.0->qdrant-client) (306)\n",
      "Requirement already satisfied: greenlet!=0.4.17 in e:\\users\\41200\\appdata\\local\\programs\\python\\python311\\lib\\site-packages (from SQLAlchemy<3,>=1.4->langchain) (2.0.2)\n",
      "Requirement already satisfied: colorama in e:\\users\\41200\\appdata\\roaming\\python\\python311\\site-packages (from tqdm->openai) (0.4.6)\n",
      "Requirement already satisfied: hyperframe<7,>=6.0 in e:\\users\\41200\\appdata\\local\\programs\\python\\python311\\lib\\site-packages (from h2<5,>=3->httpx[http2]>=0.14.0->qdrant-client) (6.0.1)\n",
      "Requirement already satisfied: hpack<5,>=4.0 in e:\\users\\41200\\appdata\\local\\programs\\python\\python311\\lib\\site-packages (from h2<5,>=3->httpx[http2]>=0.14.0->qdrant-client) (4.0.0)\n",
      "Requirement already satisfied: h11<0.15,>=0.13 in e:\\users\\41200\\appdata\\local\\programs\\python\\python311\\lib\\site-packages (from httpcore<0.18.0,>=0.15.0->httpx[http2]>=0.14.0->qdrant-client) (0.14.0)\n",
      "Requirement already satisfied: anyio<5.0,>=3.0 in e:\\users\\41200\\appdata\\local\\programs\\python\\python311\\lib\\site-packages (from httpcore<0.18.0,>=0.15.0->httpx[http2]>=0.14.0->qdrant-client) (3.7.0)\n",
      "Requirement already satisfied: packaging>=17.0 in e:\\users\\41200\\appdata\\roaming\\python\\python311\\site-packages (from marshmallow<4.0.0,>=3.3.0->dataclasses-json<0.6.0,>=0.5.7->langchain) (23.1)\n",
      "Requirement already satisfied: mypy-extensions>=0.3.0 in e:\\users\\41200\\appdata\\local\\programs\\python\\python311\\lib\\site-packages (from typing-inspect>=0.4.0->dataclasses-json<0.6.0,>=0.5.7->langchain) (1.0.0)\n"
     ]
    }
   ],
   "source": [
    "# 安装 / 升级 Python 库\n",
    "!pip3 install --upgrade tiktoken openai langchain qdrant-client"
   ]
  },
  {
   "cell_type": "markdown",
   "metadata": {},
   "source": [
    "## 2. 初始化 Qdrant"
   ]
  },
  {
   "cell_type": "markdown",
   "metadata": {},
   "source": [
    "#### 2.1. 加载 Python Modules"
   ]
  },
  {
   "cell_type": "code",
   "execution_count": 12,
   "metadata": {},
   "outputs": [],
   "source": [
    "# Qdrant python 客户端\n",
    "from qdrant_client import QdrantClient\n",
    "from qdrant_client.http import models as rest\n",
    "\n",
    "# langchain 的 Qdrant 封装\n",
    "from langchain.vectorstores import Qdrant\n",
    "\n",
    "# langchain 的 Embedding 封装\n",
    "from langchain.embeddings.openai import OpenAIEmbeddings\n",
    "\n",
    "# langchain 的 文档加载器\n",
    "from langchain.text_splitter import CharacterTextSplitter\n",
    "from langchain.document_loaders import TextLoader\n"
   ]
  },
  {
   "cell_type": "markdown",
   "metadata": {},
   "source": [
    "#### 2.2. 创建 Qdrant Python 客户端 对象\n",
    "\n",
    "[Qdrant Python 客户端 文档](https://github.com/qdrant/qdrant-client)\n"
   ]
  },
  {
   "cell_type": "code",
   "execution_count": 13,
   "metadata": {},
   "outputs": [
    {
     "name": "stdout",
     "output_type": "stream",
     "text": [
      "+++++++++++++++++++ Begin: 创建 Qdrant 客户端\n",
      "+++++++++++++++++++ End: 创建 Qdrant 客户端\n"
     ]
    }
   ],
   "source": [
    "print(f\"+++++++++++++++++++ Begin: 创建 Qdrant 客户端\")\n",
    "\n",
    "# 数据库：内存版\n",
    "# qdrant_client = QdrantClient(location=\":memory:\")\n",
    "\n",
    "# 数据库：磁盘版，sqlite\n",
    "# path = \"qdrant_data_1\"\n",
    "# qdrant_client = QdrantClient(path=path, prefer_grpc=True)\n",
    "\n",
    "# 数据库：服务器版本\n",
    "qdrant_client = QdrantClient(host=\"localhost\", port=6333, grpc_port=6334, prefer_grpc=True)\n",
    "\n",
    "print(f\"+++++++++++++++++++ End: 创建 Qdrant 客户端\")"
   ]
  },
  {
   "attachments": {},
   "cell_type": "markdown",
   "metadata": {},
   "source": [
    "#### 2.3. 创建 Qdrant `Collection`\n",
    "\n",
    "一个 `Collection` 类似 传统数据库的 一张表；\n",
    "\n",
    "每个`Collection`内部的向量维度必须一样，不同的 `Collection` 可以不一样；\n",
    "\n",
    "**注：** 如果 报 502/503 Bad Gateway 异常，要检查 开启 `Docker`容器；同时 **不要** 开启全局代理。"
   ]
  },
  {
   "cell_type": "code",
   "execution_count": 15,
   "metadata": {},
   "outputs": [
    {
     "name": "stdout",
     "output_type": "stream",
     "text": [
      "+++++++++++++++++++ Begin: 创建 Qdrant Collection\n",
      "+++++++++++++++++++ End: 创建 Qdrant Collection\n"
     ]
    }
   ],
   "source": [
    "print(f\"+++++++++++++++++++ Begin: 创建 Qdrant Collection\")\n",
    "\n",
    "collection_name = 'MyCollection'\n",
    "\n",
    "# OpenAI的 嵌入向量 维度 是 1536\n",
    "vector_size = 1536\n",
    "\n",
    "# 判断向量相近程度的度量：余弦相似度，点乘，欧式距离\n",
    "distance = rest.Distance['COSINE']  # 注：这里用余弦相似度，越接近0，相似度越高\n",
    "\n",
    "# 删除老的 Collection（如果有的话）再用给定参数 创建新的 Collection\n",
    "\n",
    "qdrant_client.recreate_collection(\n",
    "    collection_name=collection_name,\n",
    "\n",
    "    vectors_config=rest.VectorParams(\n",
    "        size=vector_size,   # OpenAI的 嵌入向量 维度\n",
    "        distance=distance,\n",
    "    ),\n",
    ")\n",
    "\n",
    "print(f\"+++++++++++++++++++ End: 创建 Qdrant Collection\")"
   ]
  },
  {
   "cell_type": "markdown",
   "metadata": {},
   "source": [
    "#### 2.4. 创建 `Qdrant Langchain` 封装层\n",
    "\n",
    "如果有多个 `Collection`，每个 `Collection`一个 Langchain 封装"
   ]
  },
  {
   "cell_type": "code",
   "execution_count": 16,
   "metadata": {},
   "outputs": [
    {
     "name": "stdout",
     "output_type": "stream",
     "text": [
      "+++++++++++++++++++ Begin: 创建 Langchain Qdrant\n",
      "+++++++++++++++++++ End: 创建 Langchain Qdrant\n"
     ]
    }
   ],
   "source": [
    "print(f\"+++++++++++++++++++ Begin: 创建 Langchain Qdrant\")\n",
    "\n",
    "# 注：这里要和上面的 vector_size 一致\n",
    "embedding = OpenAIEmbeddings(client=\"davinci\")\n",
    "\n",
    "qdrant = Qdrant(\n",
    "    client=qdrant_client,\n",
    "    collection_name=collection_name,\n",
    "    embeddings=embedding,\n",
    ")\n",
    "\n",
    "print(f\"+++++++++++++++++++ End: 创建 Langchain Qdrant\")"
   ]
  },
  {
   "cell_type": "markdown",
   "metadata": {},
   "source": [
    "#### 2.5. 分割文本\n",
    "\n",
    "加载 并 分割 文本为 Document\n",
    "\n",
    "这里 选择 state_of_the_union.txt 做实验"
   ]
  },
  {
   "cell_type": "code",
   "execution_count": 17,
   "metadata": {},
   "outputs": [
    {
     "name": "stderr",
     "output_type": "stream",
     "text": [
      "Created a chunk of size 304, which is longer than the specified 256\n",
      "Created a chunk of size 332, which is longer than the specified 256\n",
      "Created a chunk of size 281, which is longer than the specified 256\n",
      "Created a chunk of size 325, which is longer than the specified 256\n"
     ]
    },
    {
     "name": "stdout",
     "output_type": "stream",
     "text": [
      "+++++++++++++++++++ Begin: 分割文档\n",
      "+++++++++++++++++++ End: 分割文档\n"
     ]
    }
   ],
   "source": [
    "print(\"+++++++++++++++++++ Begin: 分割文档\")\n",
    "\n",
    "loader = TextLoader('./state_of_the_union.txt', encoding=\"utf-8\")\n",
    "\n",
    "documents = loader.load()\n",
    "\n",
    "text_splitter = CharacterTextSplitter(\"\\n\", chunk_size=256, chunk_overlap=0)\n",
    "\n",
    "docs = text_splitter.split_documents(documents)\n",
    "\n",
    "print(\"+++++++++++++++++++ End: 分割文档\")"
   ]
  },
  {
   "cell_type": "code",
   "execution_count": 18,
   "metadata": {},
   "outputs": [
    {
     "name": "stdout",
     "output_type": "stream",
     "text": [
      "len(docs) = 193\n",
      "doc 0: text size = 239, meta data = {'source': './state_of_the_union.txt'}\n",
      "doc 0: text = Madam Speaker, Madam Vice President, our First Lady and Second Gentleman. Members of Congress and the Cabinet. Justices of the Supreme Court. My fellow Americans.  \n",
      "Last year COVID-19 kept us apart. This year we are finally together again.\n"
     ]
    }
   ],
   "source": [
    "print(f\"len(docs) = {len(docs)}\")\n",
    "\n",
    "print(f\"doc 0: text size = {len(docs[0].page_content)}, meta data = {docs[0].metadata}\")\n",
    "\n",
    "print(f\"doc 0: text = {docs[0].page_content}\")"
   ]
  },
  {
   "cell_type": "markdown",
   "metadata": {},
   "source": [
    "#### 2.6. 上传 Text 到 `Qdrant`\n",
    "\n",
    "注：Langchain `Qdrant` 只会将 Text 转成嵌入向量；"
   ]
  },
  {
   "cell_type": "code",
   "execution_count": 19,
   "metadata": {},
   "outputs": [
    {
     "name": "stdout",
     "output_type": "stream",
     "text": [
      "+++++++++++++++++++ Begin: 上传 文本 到 Qdrant\n",
      "+++++++++++++++++++ End: Upload Document To Qdrant, succ_ids's len = 193\n"
     ]
    }
   ],
   "source": [
    "print(f\"+++++++++++++++++++ Begin: 上传 文本 到 Qdrant\")\n",
    "\n",
    "batch_size = 64\n",
    "succ_ids = qdrant.add_documents(docs, batch_size=batch_size)\n",
    "\n",
    "print(f\"+++++++++++++++++++ End: Upload Document To Qdrant, succ_ids's len = {len(succ_ids)}\")\n"
   ]
  },
  {
   "cell_type": "markdown",
   "metadata": {},
   "source": [
    "## 3. 搜索\n"
   ]
  },
  {
   "cell_type": "markdown",
   "metadata": {},
   "source": [
    "#### 3.1. 相似性搜索\n",
    "\n",
    "使用 Qdrant 向量存储的最简单场景是执行相似性搜索。\n",
    "\n",
    "在幕后，我们的查询将使用 进行编码，`embedding_function`并用于在 Qdrant 集合中查找类似的文档。"
   ]
  },
  {
   "cell_type": "code",
   "execution_count": 11,
   "metadata": {},
   "outputs": [
    {
     "name": "stdout",
     "output_type": "stream",
     "text": [
      "1. And I did that 4 days ago, when I nominated Circuit Court of Appeals Judge Ketanji Brown Jackson. One of our nation’s top legal minds, who will continue Justice Breyer’s legacy of excellence. \n",
      "\n",
      "2. Vice President Harris and I ran for office with a new economic vision for America. \n",
      "Invest in America. Educate Americans. Grow the workforce. Build the economy from the bottom up  \n",
      "and the middle out, not from the top down. \n",
      "\n",
      "3. As I said last year, especially to our younger transgender Americans, I will always have your back as your President, so you can be yourself and reach your God-given potential. \n",
      "\n",
      "4. Powered by people I’ve met like JoJo Burgess, from generations of union steelworkers from Pittsburgh, who’s here with us tonight. \n",
      "As Ohio Senator Sherrod Brown says, “It’s time to bury the label “Rust Belt.” \n",
      "It’s time. \n",
      "\n"
     ]
    }
   ],
   "source": [
    "query = \"What did the president say about Ketanji Brown Jackson\"\n",
    "\n",
    "found_docs = qdrant.similarity_search(query)\n",
    "\n",
    "for i, doc in enumerate(found_docs):\n",
    "    print(f\"{i + 1}.\", doc.page_content, \"\\n\")"
   ]
  },
  {
   "cell_type": "markdown",
   "metadata": {},
   "source": [
    "#### 3.2. 带`Score`的相似性搜索\n",
    "\n",
    "希望获得相关性分数以了解特定结果的好坏程度；\n",
    "\n",
    "返回的距离分数是余弦距离。因此，分数越低越好。"
   ]
  },
  {
   "cell_type": "code",
   "execution_count": 12,
   "metadata": {},
   "outputs": [],
   "source": [
    "query = \"What did the president say about Ketanji Brown Jackson\"\n",
    "\n",
    "s_found_docs = qdrant.similarity_search_with_score(query)"
   ]
  },
  {
   "cell_type": "code",
   "execution_count": 13,
   "metadata": {},
   "outputs": [
    {
     "name": "stdout",
     "output_type": "stream",
     "text": [
      "1. score = 0.8249364495277405,  And I did that 4 days ago, when I nominated Circuit Court of Appeals Judge Ketanji Brown Jackson. One of our nation’s top legal minds, who will continue Justice Breyer’s legacy of excellence. \n",
      "\n",
      "2. score = 0.7833905220031738,  Vice President Harris and I ran for office with a new economic vision for America. \n",
      "Invest in America. Educate Americans. Grow the workforce. Build the economy from the bottom up  \n",
      "and the middle out, not from the top down. \n",
      "\n",
      "3. score = 0.7775577306747437,  As I said last year, especially to our younger transgender Americans, I will always have your back as your President, so you can be yourself and reach your God-given potential. \n",
      "\n",
      "4. score = 0.7758106589317322,  Powered by people I’ve met like JoJo Burgess, from generations of union steelworkers from Pittsburgh, who’s here with us tonight. \n",
      "As Ohio Senator Sherrod Brown says, “It’s time to bury the label “Rust Belt.” \n",
      "It’s time. \n",
      "\n"
     ]
    }
   ],
   "source": [
    "for i, info in enumerate(s_found_docs):\n",
    "    doc, score = info\n",
    "    # 对 余弦距离，分数 越低越好\n",
    "    print(f\"{i + 1}. score = {score}, \", doc.page_content, \"\\n\")"
   ]
  },
  {
   "cell_type": "markdown",
   "metadata": {},
   "source": [
    "## 4. 作为 Langchain Retriever\n",
    "\n",
    "Qdrant 是一个 LangChain Retriever，使用余弦相似度。"
   ]
  },
  {
   "cell_type": "code",
   "execution_count": 16,
   "metadata": {},
   "outputs": [
    {
     "data": {
      "text/plain": [
       "VectorStoreRetriever(vectorstore=<langchain.vectorstores.qdrant.Qdrant object at 0x000001A40DB20F90>, search_type='similarity', search_kwargs={})"
      ]
     },
     "execution_count": 16,
     "metadata": {},
     "output_type": "execute_result"
    }
   ],
   "source": [
    "retriever = qdrant.as_retriever()\n",
    "\n",
    "retriever"
   ]
  },
  {
   "cell_type": "markdown",
   "metadata": {},
   "source": [
    "查询组装："
   ]
  },
  {
   "cell_type": "code",
   "execution_count": 18,
   "metadata": {},
   "outputs": [
    {
     "data": {
      "text/plain": [
       "Document(page_content='And I did that 4 days ago, when I nominated Circuit Court of Appeals Judge Ketanji Brown Jackson. One of our nation’s top legal minds, who will continue Justice Breyer’s legacy of excellence.', metadata={'source': './state_of_the_union.txt'})"
      ]
     },
     "execution_count": 18,
     "metadata": {},
     "output_type": "execute_result"
    }
   ],
   "source": [
    "query = \"What did the president say about Ketanji Brown Jackson\"\n",
    "\n",
    "retriever.get_relevant_documents(query)[0]"
   ]
  },
  {
   "attachments": {},
   "cell_type": "markdown",
   "metadata": {},
   "source": [
    "# 5. [过滤器](https://qdrant.tech/documentation/concepts/filtering/)\n",
    "\n",
    "Qdrant 具有广泛的过滤系统和丰富的类型支持。也可以使用 Langchain 中的过滤器，通过将附加参数传递给similarity_search_with_score和similarity_search方法。\n",
    "\n",
    "用 Langchain 的 Qdrant 封装层：\n",
    "\n",
    "+ **注：** 过滤 元数据，key = \"metadata.想要查的键\"\n",
    "+ **注：** 过滤 内容数据，key = \"page_content\", 用 FullText 全文查找字符串"
   ]
  },
  {
   "cell_type": "code",
   "execution_count": null,
   "metadata": {},
   "outputs": [],
   "source": [
    "query = \"What did the president say about Ketanji Brown Jackson\"\n",
    "\n",
    "filter_docs = qdrant.similarity_search_with_score(\n",
    "    query, \n",
    "    filter=rest.Filter(\n",
    "        must=[\n",
    "            rest.FieldCondition(\n",
    "                key=\"metadata.source\",\n",
    "                match=rest.MatchValue(value=\"./state_of_the_union.txt\"),\n",
    "            ),\n",
    "        ]\n",
    "    )\n",
    ")\n",
    "\n",
    "print(f\"====================== filter_docs: {filter_docs}\")"
   ]
  },
  {
   "attachments": {},
   "cell_type": "markdown",
   "metadata": {},
   "source": [
    "# 6. Langchain 封装的 Qdrant\n",
    "\n",
    "## 6.1. payload 组成\n",
    "\n",
    "下面的 键 是 Langchain 的 Qdrant 参数默认值，可以通过构造方法改\n",
    "\n",
    "``` python\n",
    "payload = {\n",
    "    \"page_content\": \"\", # 文本内容，字符串,\n",
    "    \"metadata\": { # 文档元数据，默认有 source\n",
    "        \"source\": \"./aaaa.txt\", \n",
    "    }\n",
    "}\n",
    "```\n",
    "\n",
    "## 6.2. 构造\n",
    "\n",
    "``` python\n",
    "qdrant = Qdrant(\n",
    "    client,\n",
    "    collection_name,\n",
    "    embeddings: Optional[Embeddings] = None,\n",
    ")\n",
    "```\n",
    "\n",
    "## 6.3. 添加文本\n",
    "\n",
    "``` python\n",
    "qdrant.add_texts(\n",
    "    texts: Iterable[str],\n",
    "    metadatas: Optional[List[dict]] = None,\n",
    "    ids: Optional[Sequence[str]] = None,\n",
    "    batch_size: int = 64,\n",
    "    **kwargs: Any,\n",
    ")\n",
    "\n",
    "payloads = self._build_payloads(\n",
    "    batch_texts,\n",
    "    batch_metadatas,\n",
    ")\n",
    "\n",
    "self.client.upsert(\n",
    "    collection_name=self.collection_name,\n",
    "    points=rest.Batch.construct(\n",
    "        ids=batch_ids,\n",
    "        vectors=self._embed_texts(batch_texts),\n",
    "        payloads=payloads,\n",
    "    ),\n",
    ")\n",
    "```\n",
    "\n",
    "## 6.4. 构造 payload\n",
    "\n",
    "``` python\n",
    "Qdrant._build_payloads(\n",
    "    texts: Iterable[str],\n",
    "    metadatas: Optional[List[dict]],\n",
    ") -> List[dict]:\n",
    "    payloads = []\n",
    "    \n",
    "    for i, text in enumerate(texts):\n",
    "        payloads.append({\n",
    "            \"page_content\": text,\n",
    "            \"metadata\": metadata[i],\n",
    "        })\n",
    "\n",
    "    return payloads\n",
    "```"
   ]
  }
 ],
 "metadata": {
  "kernelspec": {
   "display_name": "base",
   "language": "python",
   "name": "python3"
  },
  "language_info": {
   "codemirror_mode": {
    "name": "ipython",
    "version": 3
   },
   "file_extension": ".py",
   "mimetype": "text/x-python",
   "name": "python",
   "nbconvert_exporter": "python",
   "pygments_lexer": "ipython3",
   "version": "3.11.4"
  },
  "orig_nbformat": 4
 },
 "nbformat": 4,
 "nbformat_minor": 2
}

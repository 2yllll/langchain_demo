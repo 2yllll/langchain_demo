{
 "cells": [
  {
   "cell_type": "markdown",
   "metadata": {},
   "source": [
    "# [Langchain with Qdrant](https://python.langchain.com/en/latest/modules/indexes/vectorstores/examples/qdrant.html)"
   ]
  },
  {
   "cell_type": "markdown",
   "metadata": {},
   "source": [
    "## 0. [Qdrant](https://qdrant.tech/documentation/quick-start/) 简介\n",
    "\n",
    "`Qdrant` 是 `Rust`语言 实现的 `向量数据库`，支持 云端 和 分布式存储；\n",
    "\n",
    "有很多存储方式：\n",
    "\n",
    "+ 内存数据库：纯内存，程序关掉就丢失；\n",
    "+ 磁盘数据库：用 `Sqlite` 实现，部署方便，适用于小规模数据集；\n",
    "+ 标准 C/S 存储服务\n",
    "    - 私有部署 服务器：用 `Docker` 搭建\n",
    "    - 官方 [Qdrant 云](https://cloud.qdrant.io/)，需要登录，创建 `API_KEY`"
   ]
  },
  {
   "cell_type": "markdown",
   "metadata": {},
   "source": [
    "## 1. 环境\n",
    "\n",
    "+ 运行环境：Windows 11\n",
    "+ OpenAI的API Key，配置在 您电脑的 环境变量 `OPENAI_API_KEY`"
   ]
  },
  {
   "cell_type": "markdown",
   "metadata": {},
   "source": [
    "`Docker` 搭建 `Qdrant` 服务器 步骤：\n",
    "\n",
    "+ 下载镜像 docker pull qdrant/qdrant\n",
    "+ 运行容器：docker run -p 6333:6333 -p 6334:6334 -e QDRANT__SERVICE__GRPC_PORT=\"6334\" qdrant/qdrant\n",
    "+ 浏览器 测试 http://127.0.0.1:6333\n",
    "\n",
    "说明：\n",
    "\n",
    "+ 运行`Docker`容器 docker run -p 外部端口:内部端口 -e 环境变量=值 镜像\n",
    "+ 6333 是 `RESTFul` HTTP 接口\n",
    "+ 6334 是 `gprc` 接口 （二进制）"
   ]
  },
  {
   "cell_type": "code",
   "execution_count": 1,
   "metadata": {},
   "outputs": [
    {
     "name": "stdout",
     "output_type": "stream",
     "text": [
      "Requirement already satisfied: openai in e:\\users\\programdata\\miniconda3\\lib\\site-packages (0.27.8)\n",
      "Requirement already satisfied: langchain in e:\\users\\programdata\\miniconda3\\lib\\site-packages (0.0.200)\n",
      "Requirement already satisfied: qdrant-client in e:\\users\\programdata\\miniconda3\\lib\\site-packages (1.2.0)\n",
      "Requirement already satisfied: aiohttp in e:\\users\\programdata\\miniconda3\\lib\\site-packages (from openai) (3.8.3)\n",
      "Requirement already satisfied: tqdm in e:\\users\\programdata\\miniconda3\\lib\\site-packages (from openai) (4.65.0)\n",
      "Requirement already satisfied: requests>=2.20 in e:\\users\\programdata\\miniconda3\\lib\\site-packages (from openai) (2.28.1)\n",
      "Requirement already satisfied: SQLAlchemy<3,>=1.4 in e:\\users\\programdata\\miniconda3\\lib\\site-packages (from langchain) (2.0.12)\n",
      "Requirement already satisfied: pydantic<2,>=1 in e:\\users\\programdata\\miniconda3\\lib\\site-packages (from langchain) (1.10.2)\n",
      "Requirement already satisfied: PyYAML>=5.4.1 in e:\\users\\programdata\\miniconda3\\lib\\site-packages (from langchain) (6.0)\n",
      "Requirement already satisfied: numpy<2,>=1 in e:\\users\\programdata\\miniconda3\\lib\\site-packages (from langchain) (1.24.3)\n",
      "Requirement already satisfied: numexpr<3.0.0,>=2.8.4 in e:\\users\\programdata\\miniconda3\\lib\\site-packages (from langchain) (2.8.4)\n",
      "Requirement already satisfied: dataclasses-json<0.6.0,>=0.5.7 in e:\\users\\programdata\\miniconda3\\lib\\site-packages (from langchain) (0.5.7)\n",
      "Requirement already satisfied: async-timeout<5.0.0,>=4.0.0 in e:\\users\\programdata\\miniconda3\\lib\\site-packages (from langchain) (4.0.2)\n",
      "Requirement already satisfied: tenacity<9.0.0,>=8.1.0 in e:\\users\\programdata\\miniconda3\\lib\\site-packages (from langchain) (8.2.2)\n",
      "Requirement already satisfied: openapi-schema-pydantic<2.0,>=1.2 in e:\\users\\programdata\\miniconda3\\lib\\site-packages (from langchain) (1.2.4)\n",
      "Requirement already satisfied: langchainplus-sdk>=0.0.9 in e:\\users\\programdata\\miniconda3\\lib\\site-packages (from langchain) (0.0.10)\n",
      "Requirement already satisfied: grpcio-tools>=1.41.0 in e:\\users\\programdata\\miniconda3\\lib\\site-packages (from qdrant-client) (1.54.2)\n",
      "Requirement already satisfied: urllib3<2.0.0,>=1.26.14 in e:\\users\\programdata\\miniconda3\\lib\\site-packages (from qdrant-client) (1.26.15)\n",
      "Requirement already satisfied: portalocker<3.0.0,>=2.7.0 in e:\\users\\programdata\\miniconda3\\lib\\site-packages (from qdrant-client) (2.7.0)\n",
      "Requirement already satisfied: typing-extensions<4.6.0,>=4.0.0 in e:\\users\\programdata\\miniconda3\\lib\\site-packages (from qdrant-client) (4.5.0)\n",
      "Requirement already satisfied: grpcio>=1.41.0 in e:\\users\\programdata\\miniconda3\\lib\\site-packages (from qdrant-client) (1.54.2)\n",
      "Requirement already satisfied: httpx[http2]>=0.14.0 in e:\\users\\programdata\\miniconda3\\lib\\site-packages (from qdrant-client) (0.24.1)\n",
      "Requirement already satisfied: aiosignal>=1.1.2 in e:\\users\\programdata\\miniconda3\\lib\\site-packages (from aiohttp->openai) (1.2.0)\n",
      "Requirement already satisfied: yarl<2.0,>=1.0 in e:\\users\\programdata\\miniconda3\\lib\\site-packages (from aiohttp->openai) (1.8.1)\n",
      "Requirement already satisfied: multidict<7.0,>=4.5 in e:\\users\\programdata\\miniconda3\\lib\\site-packages (from aiohttp->openai) (6.0.2)\n",
      "Requirement already satisfied: frozenlist>=1.1.1 in e:\\users\\programdata\\miniconda3\\lib\\site-packages (from aiohttp->openai) (1.3.3)\n",
      "Requirement already satisfied: charset-normalizer<3.0,>=2.0 in e:\\users\\programdata\\miniconda3\\lib\\site-packages (from aiohttp->openai) (2.0.4)\n",
      "Requirement already satisfied: attrs>=17.3.0 in e:\\users\\programdata\\miniconda3\\lib\\site-packages (from aiohttp->openai) (23.1.0)\n",
      "Requirement already satisfied: typing-inspect>=0.4.0 in e:\\users\\programdata\\miniconda3\\lib\\site-packages (from dataclasses-json<0.6.0,>=0.5.7->langchain) (0.8.0)\n",
      "Requirement already satisfied: marshmallow<4.0.0,>=3.3.0 in e:\\users\\programdata\\miniconda3\\lib\\site-packages (from dataclasses-json<0.6.0,>=0.5.7->langchain) (3.19.0)\n",
      "Requirement already satisfied: marshmallow-enum<2.0.0,>=1.5.1 in e:\\users\\programdata\\miniconda3\\lib\\site-packages (from dataclasses-json<0.6.0,>=0.5.7->langchain) (1.5.1)\n",
      "Requirement already satisfied: setuptools in e:\\users\\programdata\\miniconda3\\lib\\site-packages (from grpcio-tools>=1.41.0->qdrant-client) (65.6.3)\n",
      "Requirement already satisfied: protobuf<5.0dev,>=4.21.6 in e:\\users\\programdata\\miniconda3\\lib\\site-packages (from grpcio-tools>=1.41.0->qdrant-client) (4.23.3)\n",
      "Requirement already satisfied: idna in e:\\users\\programdata\\miniconda3\\lib\\site-packages (from httpx[http2]>=0.14.0->qdrant-client) (3.4)\n",
      "Requirement already satisfied: httpcore<0.18.0,>=0.15.0 in e:\\users\\programdata\\miniconda3\\lib\\site-packages (from httpx[http2]>=0.14.0->qdrant-client) (0.17.2)\n",
      "Requirement already satisfied: certifi in e:\\users\\programdata\\miniconda3\\lib\\site-packages (from httpx[http2]>=0.14.0->qdrant-client) (2023.5.7)\n",
      "Requirement already satisfied: sniffio in e:\\users\\programdata\\miniconda3\\lib\\site-packages (from httpx[http2]>=0.14.0->qdrant-client) (1.3.0)\n",
      "Requirement already satisfied: h2<5,>=3 in e:\\users\\programdata\\miniconda3\\lib\\site-packages (from httpx[http2]>=0.14.0->qdrant-client) (4.1.0)\n",
      "Requirement already satisfied: pywin32>=226 in e:\\users\\programdata\\miniconda3\\lib\\site-packages (from portalocker<3.0.0,>=2.7.0->qdrant-client) (305.1)\n",
      "Requirement already satisfied: greenlet!=0.4.17 in e:\\users\\programdata\\miniconda3\\lib\\site-packages (from SQLAlchemy<3,>=1.4->langchain) (2.0.1)\n",
      "Requirement already satisfied: colorama in e:\\users\\programdata\\miniconda3\\lib\\site-packages (from tqdm->openai) (0.4.6)\n",
      "Requirement already satisfied: hpack<5,>=4.0 in e:\\users\\programdata\\miniconda3\\lib\\site-packages (from h2<5,>=3->httpx[http2]>=0.14.0->qdrant-client) (4.0.0)\n",
      "Requirement already satisfied: hyperframe<7,>=6.0 in e:\\users\\programdata\\miniconda3\\lib\\site-packages (from h2<5,>=3->httpx[http2]>=0.14.0->qdrant-client) (6.0.1)\n",
      "Requirement already satisfied: anyio<5.0,>=3.0 in e:\\users\\programdata\\miniconda3\\lib\\site-packages (from httpcore<0.18.0,>=0.15.0->httpx[http2]>=0.14.0->qdrant-client) (3.7.0)\n",
      "Requirement already satisfied: h11<0.15,>=0.13 in e:\\users\\programdata\\miniconda3\\lib\\site-packages (from httpcore<0.18.0,>=0.15.0->httpx[http2]>=0.14.0->qdrant-client) (0.14.0)\n",
      "Requirement already satisfied: packaging>=17.0 in e:\\users\\programdata\\miniconda3\\lib\\site-packages (from marshmallow<4.0.0,>=3.3.0->dataclasses-json<0.6.0,>=0.5.7->langchain) (23.0)\n",
      "Requirement already satisfied: mypy-extensions>=0.3.0 in e:\\users\\programdata\\miniconda3\\lib\\site-packages (from typing-inspect>=0.4.0->dataclasses-json<0.6.0,>=0.5.7->langchain) (1.0.0)\n",
      "Requirement already satisfied: exceptiongroup in e:\\users\\programdata\\miniconda3\\lib\\site-packages (from anyio<5.0,>=3.0->httpcore<0.18.0,>=0.15.0->httpx[http2]>=0.14.0->qdrant-client) (1.1.1)\n"
     ]
    }
   ],
   "source": [
    "# 安装 / 升级 Python 库\n",
    "!pip3 install --upgrade openai langchain qdrant-client"
   ]
  },
  {
   "cell_type": "markdown",
   "metadata": {},
   "source": [
    "## 2. 初始化 Qdrant"
   ]
  },
  {
   "cell_type": "markdown",
   "metadata": {},
   "source": [
    "#### 2.1. 加载 Python Modules"
   ]
  },
  {
   "cell_type": "code",
   "execution_count": 1,
   "metadata": {},
   "outputs": [],
   "source": [
    "import uuid\n",
    "\n",
    "# Qdrant python 客户端\n",
    "from qdrant_client import QdrantClient\n",
    "from qdrant_client.http import models as rest\n",
    "\n",
    "# langchain 的 Qdrant 封装\n",
    "from langchain.vectorstores import Qdrant\n",
    "\n",
    "# langchain 的 Embedding 封装\n",
    "from langchain.embeddings.openai import OpenAIEmbeddings\n",
    "\n",
    "# langchain 的 文档加载器\n",
    "from langchain.text_splitter import CharacterTextSplitter\n",
    "from langchain.document_loaders import TextLoader\n"
   ]
  },
  {
   "cell_type": "markdown",
   "metadata": {},
   "source": [
    "#### 2.2. 创建 Qdrant Python 客户端 对象\n",
    "\n",
    "[Qdrant Python 客户端 文档](https://github.com/qdrant/qdrant-client)\n"
   ]
  },
  {
   "cell_type": "code",
   "execution_count": 2,
   "metadata": {},
   "outputs": [
    {
     "name": "stdout",
     "output_type": "stream",
     "text": [
      "+++++++++++++++++++ Begin: 创建 Qdrant 客户端\n",
      "+++++++++++++++++++ End: 创建 Qdrant 客户端\n"
     ]
    }
   ],
   "source": [
    "print(f\"+++++++++++++++++++ Begin: 创建 Qdrant 客户端\")\n",
    "\n",
    "# 数据库：内存版\n",
    "# qdrant_client = QdrantClient(location=\":memory:\")\n",
    "\n",
    "# 数据库：磁盘版，sqlite\n",
    "# path = \"qdrant_data_1\"\n",
    "# qdrant_client = QdrantClient(path=path, prefer_grpc=True)\n",
    "\n",
    "# 数据库：服务器版本\n",
    "qdrant_client = QdrantClient(host=\"localhost\", port=6333, grpc_port=6334, prefer_grpc=True)\n",
    "\n",
    "print(f\"+++++++++++++++++++ End: 创建 Qdrant 客户端\")"
   ]
  },
  {
   "cell_type": "markdown",
   "metadata": {},
   "source": [
    "#### 2.3. 创建 Qdrant `Collection`\n",
    "\n",
    "一个 `Collection` 类似 传统数据库的 一张表；\n",
    "\n",
    "每个`Collection`内部的向量维度必须一样，不同的 `Collection` 可以不一样；"
   ]
  },
  {
   "cell_type": "code",
   "execution_count": 3,
   "metadata": {},
   "outputs": [
    {
     "name": "stdout",
     "output_type": "stream",
     "text": [
      "+++++++++++++++++++ Begin: 创建 Qdrant Collection\n",
      "+++++++++++++++++++ End: 创建 Qdrant Collection\n"
     ]
    }
   ],
   "source": [
    "print(f\"+++++++++++++++++++ Begin: 创建 Qdrant Collection\")\n",
    "\n",
    "collection_name = 'MyCollection'\n",
    "\n",
    "# OpenAI的 嵌入向量 维度 是 1536\n",
    "vector_size = 1536\n",
    "\n",
    "# 判断向量相近程度的度量：余弦相似度，点乘，欧式距离\n",
    "distance = rest.Distance['COSINE']  # 注：这里用余弦相似度，越接近0，相似度越高\n",
    "\n",
    "# 删除老的 Collection（如果有的话）\n",
    "# 再用给定参数 创建新的 Collection\n",
    "qdrant_client.recreate_collection(\n",
    "    collection_name=collection_name,\n",
    "\n",
    "    vectors_config=rest.VectorParams(\n",
    "        size=vector_size,   # OpenAI的 嵌入向量 维度\n",
    "        distance=distance,\n",
    "    ),\n",
    ")\n",
    "\n",
    "print(f\"+++++++++++++++++++ End: 创建 Qdrant Collection\")"
   ]
  },
  {
   "cell_type": "markdown",
   "metadata": {},
   "source": [
    "#### 2.4. 创建 `Qdrant Langchain` 封装层\n",
    "\n",
    "如果有多个 `Collection`，每个 `Collection`一个 Langchain 封装"
   ]
  },
  {
   "cell_type": "code",
   "execution_count": 4,
   "metadata": {},
   "outputs": [
    {
     "name": "stdout",
     "output_type": "stream",
     "text": [
      "+++++++++++++++++++ Begin: 创建 Langchain Qdrant\n",
      "+++++++++++++++++++ End: 创建 Langchain Qdrant\n"
     ]
    }
   ],
   "source": [
    "print(f\"+++++++++++++++++++ Begin: 创建 Langchain Qdrant\")\n",
    "\n",
    "# 注：这里要和上面的 vector_size 一致\n",
    "embedding = OpenAIEmbeddings(client=\"davinci\")\n",
    "\n",
    "qdrant = Qdrant(\n",
    "    client=qdrant_client,\n",
    "    collection_name=collection_name,\n",
    "    embeddings=embedding,\n",
    ")\n",
    "\n",
    "print(f\"+++++++++++++++++++ End: 创建 Langchain Qdrant\")"
   ]
  },
  {
   "cell_type": "markdown",
   "metadata": {},
   "source": [
    "#### 2.5. 分割文本\n",
    "\n",
    "加载 并 分割 文本为 Document\n",
    "\n",
    "这里 选择 state_of_the_union.txt 做实验"
   ]
  },
  {
   "cell_type": "code",
   "execution_count": 24,
   "metadata": {},
   "outputs": [
    {
     "name": "stderr",
     "output_type": "stream",
     "text": [
      "Created a chunk of size 304, which is longer than the specified 256\n",
      "Created a chunk of size 332, which is longer than the specified 256\n",
      "Created a chunk of size 281, which is longer than the specified 256\n",
      "Created a chunk of size 325, which is longer than the specified 256\n"
     ]
    },
    {
     "name": "stdout",
     "output_type": "stream",
     "text": [
      "+++++++++++++++++++ Begin: 分割文档\n",
      "+++++++++++++++++++ End: 分割文档\n"
     ]
    }
   ],
   "source": [
    "print(\"+++++++++++++++++++ Begin: 分割文档\")\n",
    "\n",
    "loader = TextLoader('./state_of_the_union.txt', encoding=\"utf-8\")\n",
    "\n",
    "documents = loader.load()\n",
    "\n",
    "text_splitter = CharacterTextSplitter(\"\\n\", chunk_size=256, chunk_overlap=0)\n",
    "\n",
    "docs = text_splitter.split_documents(documents)\n",
    "\n",
    "print(\"+++++++++++++++++++ End: 分割文档\")"
   ]
  },
  {
   "cell_type": "code",
   "execution_count": 28,
   "metadata": {},
   "outputs": [
    {
     "name": "stdout",
     "output_type": "stream",
     "text": [
      "len(docs) = 193\n",
      "doc 0: text size = 239, meta data = {'source': './state_of_the_union.txt'}\n",
      "doc 0: text = Madam Speaker, Madam Vice President, our First Lady and Second Gentleman. Members of Congress and the Cabinet. Justices of the Supreme Court. My fellow Americans.  \n",
      "Last year COVID-19 kept us apart. This year we are finally together again.\n"
     ]
    }
   ],
   "source": [
    "print(f\"len(docs) = {len(docs)}\")\n",
    "\n",
    "print(f\"doc 0: text size = {len(docs[0].page_content)}, meta data = {docs[0].metadata}\")\n",
    "\n",
    "print(f\"doc 0: text = {docs[0].page_content}\")"
   ]
  },
  {
   "cell_type": "markdown",
   "metadata": {},
   "source": [
    "#### 2.6. 上传 Text 到 `Qdrant`\n",
    "\n",
    "注：Langchain `Qdrant` 只会将 Text 转成嵌入向量；"
   ]
  },
  {
   "cell_type": "code",
   "execution_count": 29,
   "metadata": {},
   "outputs": [
    {
     "name": "stdout",
     "output_type": "stream",
     "text": [
      "+++++++++++++++++++ Begin: 上传 文本 到 Qdrant\n",
      "+++++++++++++++++++ End: 上传 文本 到 Qdrant\n"
     ]
    }
   ],
   "source": [
    "print(f\"+++++++++++++++++++ Begin: 上传 文本 到 Qdrant\")\n",
    "\n",
    "texts = [d.page_content for d in docs]\n",
    "\n",
    "metadatas = [d.metadata for d in docs]\n",
    "\n",
    "ids = [uuid.uuid4().hex for _ in iter(texts)]\n",
    "\n",
    "\n",
    "batch_size = 64\n",
    "\n",
    "succ_ids = qdrant.add_texts(\n",
    "    texts,\n",
    "    metadatas,\n",
    "    ids,\n",
    "    batch_size=batch_size,\n",
    ")\n",
    "\n",
    "print(f\"+++++++++++++++++++ End: 上传 文本 到 Qdrant\")"
   ]
  },
  {
   "cell_type": "markdown",
   "metadata": {},
   "source": [
    "## 3. 搜索\n"
   ]
  },
  {
   "cell_type": "markdown",
   "metadata": {},
   "source": [
    "#### 3.1. 相似性搜索\n",
    "\n",
    "使用 Qdrant 向量存储的最简单场景是执行相似性搜索。\n",
    "\n",
    "在幕后，我们的查询将使用 进行编码，`embedding_function`并用于在 Qdrant 集合中查找类似的文档。"
   ]
  },
  {
   "cell_type": "code",
   "execution_count": 24,
   "metadata": {},
   "outputs": [
    {
     "name": "stdout",
     "output_type": "stream",
     "text": [
      "1. And I did that 4 days ago, when I nominated Circuit Court of Appeals Judge Ketanji Brown Jackson. One of our nation’s top legal minds, who will continue Justice Breyer’s legacy of excellence. \n",
      "\n",
      "2. And I did that 4 days ago, when I nominated Circuit Court of Appeals Judge Ketanji Brown Jackson. One of our nation’s top legal minds, who will continue Justice Breyer’s legacy of excellence. \n",
      "\n",
      "3. And I did that 4 days ago, when I nominated Circuit Court of Appeals Judge Ketanji Brown Jackson. One of our nation’s top legal minds, who will continue Justice Breyer’s legacy of excellence. \n",
      "\n",
      "4. Last month, I announced our plan to supercharge  \n",
      "the Cancer Moonshot that President Obama asked me to lead six years ago. \n",
      "\n"
     ]
    }
   ],
   "source": [
    "query = \"What did the president say about Ketanji Brown Jackson\"\n",
    "\n",
    "found_docs = qdrant.similarity_search(query)\n",
    "\n",
    "for i, doc in enumerate(found_docs):\n",
    "    print(f\"{i + 1}.\", doc.page_content, \"\\n\")"
   ]
  },
  {
   "cell_type": "markdown",
   "metadata": {},
   "source": [
    "#### 3.2. 带`Score`的相似性搜索\n",
    "\n",
    "希望获得相关性分数以了解特定结果的好坏程度；\n",
    "\n",
    "返回的距离分数是余弦距离。因此，分数越低越好。"
   ]
  },
  {
   "cell_type": "code",
   "execution_count": 30,
   "metadata": {},
   "outputs": [],
   "source": [
    "query = \"What did the president say about Ketanji Brown Jackson\"\n",
    "\n",
    "s_found_docs = qdrant.similarity_search_with_score(query)"
   ]
  },
  {
   "cell_type": "code",
   "execution_count": 32,
   "metadata": {},
   "outputs": [
    {
     "name": "stdout",
     "output_type": "stream",
     "text": [
      "1. score = 0.824936032295227,  And I did that 4 days ago, when I nominated Circuit Court of Appeals Judge Ketanji Brown Jackson. One of our nation’s top legal minds, who will continue Justice Breyer’s legacy of excellence. \n",
      "\n",
      "2. score = 0.824936032295227,  And I did that 4 days ago, when I nominated Circuit Court of Appeals Judge Ketanji Brown Jackson. One of our nation’s top legal minds, who will continue Justice Breyer’s legacy of excellence. \n",
      "\n",
      "3. score = 0.824936032295227,  And I did that 4 days ago, when I nominated Circuit Court of Appeals Judge Ketanji Brown Jackson. One of our nation’s top legal minds, who will continue Justice Breyer’s legacy of excellence. \n",
      "\n",
      "4. score = 0.7858818173408508,  Last month, I announced our plan to supercharge  \n",
      "the Cancer Moonshot that President Obama asked me to lead six years ago. \n",
      "\n"
     ]
    }
   ],
   "source": [
    "for i, info in enumerate(s_found_docs):\n",
    "    doc, score = info\n",
    "    # 对 余弦距离，分数 越低越好\n",
    "    print(f\"{i + 1}. score = {score}, \", doc.page_content, \"\\n\")"
   ]
  },
  {
   "cell_type": "markdown",
   "metadata": {},
   "source": [
    "#### 3.3. `MMR`: 最大边际相关搜索\n",
    "\n",
    "如果您想查找一些类似的文档，但您也希望收到不同的结果，MMR 是您应该考虑的方法。\n",
    "\n",
    "最大边际相关性优化查询的相似性和所选文档之间的多样性。"
   ]
  },
  {
   "cell_type": "code",
   "execution_count": 33,
   "metadata": {},
   "outputs": [],
   "source": [
    "query = \"What did the president say about Ketanji Brown Jackson\"\n",
    "mmr_found_docs = qdrant.max_marginal_relevance_search(query, k=2, fetch_k=10)"
   ]
  },
  {
   "cell_type": "code",
   "execution_count": 23,
   "metadata": {},
   "outputs": [
    {
     "name": "stdout",
     "output_type": "stream",
     "text": [
      "1. And I did that 4 days ago, when I nominated Circuit Court of Appeals Judge Ketanji Brown Jackson. One of our nation’s top legal minds, who will continue Justice Breyer’s legacy of excellence. \n",
      "\n",
      "2. Vice President Harris and I ran for office with a new economic vision for America. \n",
      "\n",
      "Invest in America. Educate Americans. Grow the workforce. Build the economy from the bottom up  \n",
      "and the middle out, not from the top down. \n",
      "\n"
     ]
    }
   ],
   "source": [
    "for i, doc in enumerate(mmr_found_docs):\n",
    "    print(f\"{i + 1}.\", doc.page_content, \"\\n\")"
   ]
  },
  {
   "cell_type": "markdown",
   "metadata": {},
   "source": [
    "## 4. 作为 Langchain Retriever\n",
    "\n",
    "Qdrant 是一个 LangChain Retriever，使用余弦相似度。"
   ]
  },
  {
   "cell_type": "code",
   "execution_count": null,
   "metadata": {},
   "outputs": [
    {
     "data": {
      "text/plain": [
       "VectorStoreRetriever(vectorstore=<langchain.vectorstores.qdrant.Qdrant object at 0x0000020870ACF6A0>, search_type='similarity', search_kwargs={})"
      ]
     },
     "execution_count": 12,
     "metadata": {},
     "output_type": "execute_result"
    }
   ],
   "source": [
    "retriever = qdrant.as_retriever()\n",
    "\n",
    "retriever"
   ]
  },
  {
   "cell_type": "markdown",
   "metadata": {},
   "source": [
    "还可以指定使用 MMR 作为搜索策略，而不是相似性"
   ]
  },
  {
   "cell_type": "code",
   "execution_count": null,
   "metadata": {},
   "outputs": [
    {
     "data": {
      "text/plain": [
       "VectorStoreRetriever(vectorstore=<langchain.vectorstores.qdrant.Qdrant object at 0x0000020870ACF6A0>, search_type='mmr', search_kwargs={})"
      ]
     },
     "execution_count": 13,
     "metadata": {},
     "output_type": "execute_result"
    }
   ],
   "source": [
    "retriever = qdrant.as_retriever(search_type=\"mmr\")\n",
    "\n",
    "retriever"
   ]
  },
  {
   "cell_type": "markdown",
   "metadata": {},
   "source": [
    "查询组装："
   ]
  },
  {
   "cell_type": "code",
   "execution_count": null,
   "metadata": {},
   "outputs": [
    {
     "data": {
      "text/plain": [
       "Document(page_content='Tonight. I call on the Senate to: Pass the Freedom to Vote Act. Pass the John Lewis Voting Rights Act. And while you’re at it, pass the Disclose Act so Americans can know who is funding our elections. \\n\\nTonight, I’d like to honor someone who has dedicated his life to serve this country: Justice Stephen Breyer—an Army veteran, Constitutional scholar, and retiring Justice of the United States Supreme Court. Justice Breyer, thank you for your service. \\n\\nOne of the most serious constitutional responsibilities a President has is nominating someone to serve on the United States Supreme Court. \\n\\nAnd I did that 4 days ago, when I nominated Circuit Court of Appeals Judge Ketanji Brown Jackson. One of our nation’s top legal minds, who will continue Justice Breyer’s legacy of excellence.', metadata={'source': './state_of_the_union.txt'})"
      ]
     },
     "execution_count": 14,
     "metadata": {},
     "output_type": "execute_result"
    }
   ],
   "source": [
    "query = \"What did the president say about Ketanji Brown Jackson\"\n",
    "\n",
    "retriever.get_relevant_documents(query)[0]"
   ]
  },
  {
   "cell_type": "markdown",
   "metadata": {},
   "source": [
    "# 5. `TODO` [元数据过滤](https://qdrant.tech/documentation/concepts/filtering/)\n",
    "\n",
    "Qdrant 具有广泛的过滤系统和丰富的类型支持。也可以使用 Langchain 中的过滤器，通过将附加参数传递给similarity_search_with_score和similarity_search方法。"
   ]
  },
  {
   "cell_type": "markdown",
   "metadata": {},
   "source": [
    "``` python\n",
    "from qdrant_client.http import models as rest\n",
    "\n",
    "query = \"What did the president say about Ketanji Brown Jackson\"\n",
    "\n",
    "found_docs = qdrant.similarity_search_with_score(query, filter=rest.Filter(...))\n",
    "\n",
    "```"
   ]
  }
 ],
 "metadata": {
  "kernelspec": {
   "display_name": "base",
   "language": "python",
   "name": "python3"
  },
  "language_info": {
   "codemirror_mode": {
    "name": "ipython",
    "version": 3
   },
   "file_extension": ".py",
   "mimetype": "text/x-python",
   "name": "python",
   "nbconvert_exporter": "python",
   "pygments_lexer": "ipython3",
   "version": "3.10.10"
  },
  "orig_nbformat": 4
 },
 "nbformat": 4,
 "nbformat_minor": 2
}
